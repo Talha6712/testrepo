{
 "cells": [
  {
   "cell_type": "markdown",
   "id": "07bf58ae-09f7-456a-bc4f-f1cb092c1676",
   "metadata": {},
   "source": [
    "# Data Science Tools and Ecosystem"
   ]
  },
  {
   "cell_type": "markdown",
   "id": "abd05280-e029-4cf0-856c-fc52458a0ef3",
   "metadata": {},
   "source": [
    "In this notebook, Data Science Tools and Ecosystem are summarized."
   ]
  },
  {
   "cell_type": "markdown",
   "id": "7935cdd1-5557-4132-acc7-ea6b14350b82",
   "metadata": {},
   "source": [
    "Some of the popular languages that Data Scientists use are:\n",
    "1. Python\n",
    "2. R\n",
    "3. SQL"
   ]
  },
  {
   "cell_type": "markdown",
   "id": "c55bb0cd-374f-485d-94c1-01fc507fab18",
   "metadata": {},
   "source": [
    "Some of the commonly used libraries used by Data Scientists include:\n",
    "\n",
    "1. Pandas\n",
    "2. Numpy\n",
    "3. ggplot\n",
    "4. keras\n"
   ]
  },
  {
   "cell_type": "markdown",
   "id": "ab4ecdf6-53b3-43a3-a9ba-794327313d77",
   "metadata": {},
   "source": [
    "| Data Science Tools |\n",
    "|--------------------|\n",
    "| Jupyter Notebook |\n",
    "| Apache Hadoop |\n",
    "| Sickit-learn |"
   ]
  },
  {
   "cell_type": "markdown",
   "id": "1cd2c127-d2ef-429c-8714-04209690b086",
   "metadata": {},
   "source": [
    "### Below are a few examples of evaluating arithmetic expressions in Python"
   ]
  },
  {
   "cell_type": "code",
   "execution_count": 1,
   "id": "1b829b62-17cd-4b2c-84f3-d20515a00d9f",
   "metadata": {
    "tags": []
   },
   "outputs": [
    {
     "data": {
      "text/plain": [
       "17"
      ]
     },
     "execution_count": 1,
     "metadata": {},
     "output_type": "execute_result"
    }
   ],
   "source": [
    "# This a simple arithmetic expression to mutiply then add integers.\n",
    "(3*4)+5"
   ]
  },
  {
   "cell_type": "code",
   "execution_count": 4,
   "id": "31006707-88dc-4789-a02d-2784640355d6",
   "metadata": {
    "tags": []
   },
   "outputs": [
    {
     "data": {
      "text/plain": [
       "3.3333333333333335"
      ]
     },
     "execution_count": 4,
     "metadata": {},
     "output_type": "execute_result"
    }
   ],
   "source": [
    "# This will convert 200 minutes to hours by diving by 60\n",
    "mins =200\n",
    "hrs = mins/60\n",
    "hrs"
   ]
  },
  {
   "cell_type": "markdown",
   "id": "150ab60e-823d-4b6d-8971-c49408691daa",
   "metadata": {},
   "source": [
    "**Objectives :**\n",
    "\n",
    "1. List popular languages for Data Science\n",
    "2. commonly used libraries\n",
    "3. evaluating arithmetic expressions in Python"
   ]
  },
  {
   "cell_type": "markdown",
   "id": "a0a394dd-3a5b-4e78-963c-df9f4a851795",
   "metadata": {},
   "source": [
    "## Author \n",
    "Talha Asif"
   ]
  },
  {
   "cell_type": "code",
   "execution_count": null,
   "id": "22590e36-8a80-4807-b2fe-67262c73ca2c",
   "metadata": {},
   "outputs": [],
   "source": []
  }
 ],
 "metadata": {
  "kernelspec": {
   "display_name": "Python",
   "language": "python",
   "name": "conda-env-python-py"
  },
  "language_info": {
   "codemirror_mode": {
    "name": "ipython",
    "version": 3
   },
   "file_extension": ".py",
   "mimetype": "text/x-python",
   "name": "python",
   "nbconvert_exporter": "python",
   "pygments_lexer": "ipython3",
   "version": "3.7.12"
  }
 },
 "nbformat": 4,
 "nbformat_minor": 5
}
